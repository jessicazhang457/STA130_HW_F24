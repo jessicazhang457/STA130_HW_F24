{
 "cells": [
  {
   "cell_type": "markdown",
   "id": "ffc2620a",
   "metadata": {},
   "source": [
    "# Question 1"
   ]
  },
  {
   "cell_type": "markdown",
   "id": "ff63b84d",
   "metadata": {},
   "source": [
    "The key factor that determines whether an idea can be examined and tested statistically is measurebility.\n",
    "\n",
    "The key criteria of defining a good null hypothesis is that it must be tested through statistical methods, framed in a way that can be proven false, specific and simple.\n",
    "\n",
    "Null hypothesis: represents the baseline of the assumption, states that there are no difference, effect or relationship between variables. The hypothesis that researched are attempt to reject.\n",
    "\n",
    "Alternative Hypothesis: represents the hypothesis that researchers aim to support, states that there is an effect, a difference, or a relationship between variables. Accepted if the null hypothesis is rejected based of the statistical evidence."
   ]
  },
  {
   "cell_type": "markdown",
   "id": "aab8ae91",
   "metadata": {},
   "source": [
    "# Question 2"
   ]
  },
  {
   "cell_type": "markdown",
   "id": "8503786b",
   "metadata": {},
   "source": [
    "When doing statistical tests, the goal is to make the conclusions about the entire population, not just the specific group, sample, where the data is collected. So, even though working with data from the sample individual pieces of data and the average of this specific data, the results we get from our tests apply to the whole population, not just the sample."
   ]
  },
  {
   "cell_type": "markdown",
   "id": "2e5ae1d8",
   "metadata": {},
   "source": [
    "# Question 3"
   ]
  },
  {
   "cell_type": "markdown",
   "id": "3985da40",
   "metadata": {},
   "source": [
    "When calculating the p-value, we imagine a world where null hypothesis is true because we are trying to see how the sample data would be if there were really no difference in the population as the null hypothesis suggests. "
   ]
  },
  {
   "cell_type": "markdown",
   "id": "76312224",
   "metadata": {},
   "source": [
    "# Question 4"
   ]
  },
  {
   "cell_type": "markdown",
   "id": "3bb7bb0d",
   "metadata": {},
   "source": [
    "A smaller p-value makes the null hypothesis look more ridiculous because it shows that the observed data is very unlikely to occur if the null hypothesis is actually true."
   ]
  },
  {
   "cell_type": "markdown",
   "id": "7950ac0f",
   "metadata": {},
   "source": [
    "# Question 5"
   ]
  },
  {
   "cell_type": "markdown",
   "id": "fa078b99",
   "metadata": {},
   "source": [
    "Null Hypothesis (H0): There is no preference for left or right head tilt among couples when kissing. The proportion of couples tilting right is 0.5.\n",
    "\n",
    "Alternative Hypothesis (Ha): There is a preference for right head tilt among couples when kissing. he proportion of couples tilting left is 0.5."
   ]
  },
  {
   "cell_type": "code",
   "execution_count": 2,
   "id": "28d026b5",
   "metadata": {},
   "outputs": [
    {
     "data": {
      "text/plain": [
       "0.0007"
      ]
     },
     "execution_count": 2,
     "metadata": {},
     "output_type": "execute_result"
    }
   ],
   "source": [
    "import numpy as np\n",
    "\n",
    "n_couples = 124  \n",
    "n_right_tilts = 80  \n",
    "n_simulations = 10000  \n",
    "\n",
    "\n",
    "observed_proportion = n_right_tilts / n_couples\n",
    "\n",
    "simulated_tilts = np.random.binomial(n_couples, 0.5, n_simulations)\n",
    "\n",
    "simulated_proportions = simulated_tilts / n_couples\n",
    "\n",
    "p_value = np.mean(simulated_proportions >= observed_proportion)\n",
    "\n",
    "p_value"
   ]
  },
  {
   "cell_type": "markdown",
   "id": "03a90f3e",
   "metadata": {},
   "source": [
    "The simulated p- value is approximately 0.0001, according the the table provided, this p- values falls into the range of \"Very strong evidence against the null hypothesis\" (0.001 >= p). It rejects the null hypothesis and conclude that there is a significant tendency for humans to tilt their heads to the right when kissing."
   ]
  },
  {
   "cell_type": "markdown",
   "id": "ec3efbe9",
   "metadata": {},
   "source": [
    "# Question 6"
   ]
  },
  {
   "cell_type": "markdown",
   "id": "3723d955",
   "metadata": {},
   "source": [
    "No, a smaller p- value cannot definitively prove that the null hypothesis is false. Instead, it indicates how unlikely the observed data would be if the null hypothesis were true.\n",
    "\n",
    "No definite proof to prove that Fido is innocent or guilty using p-value.\n",
    "\n",
    "There are no p-values that can definitely prove guilty or innocenc. P-values are tools for assessing evidence but they cannot be used in legal or scientific contexts to prove absolute facts."
   ]
  },
  {
   "cell_type": "markdown",
   "id": "1441a43a",
   "metadata": {},
   "source": [
    "# Question 7"
   ]
  },
  {
   "cell_type": "code",
   "execution_count": 3,
   "id": "26b477d0",
   "metadata": {},
   "outputs": [
    {
     "name": "stdout",
     "output_type": "stream",
     "text": [
      "95% Confidence Interval: [0.7975000000000002, 5.502499999999998]\n",
      "Observed statistic (proportion of improvements): 0.8\n",
      "One-sided p-value (testing if proportion of improvements > 0): 0.0565\n"
     ]
    }
   ],
   "source": [
    "import pandas as pd\n",
    "import numpy as np\n",
    "\n",
    "# Patient data\n",
    "patient_data = pd.DataFrame({\n",
    "    \"PatientID\": [1, 2, 3, 4, 5, 6, 7, 8, 9, 10],\n",
    "    \"Age\": [45, 34, 29, 52, 37, 41, 33, 48, 26, 39],\n",
    "    \"Gender\": [\"M\", \"F\", \"M\", \"F\", \"M\", \"F\", \"M\", \"F\", \"M\", \"F\"],\n",
    "    \"InitialHealthScore\": [84, 78, 83, 81, 81, 80, 79, 85, 76, 83],\n",
    "    \"FinalHealthScore\": [86, 86, 80, 86, 84, 86, 86, 82, 83, 84]\n",
    "})\n",
    "\n",
    "# Calculate HealthScoreChange\n",
    "patient_data['HealthScoreChange'] = patient_data['FinalHealthScore'] - patient_data['InitialHealthScore']\n",
    "\n",
    "# Bootstrapping\n",
    "np.random.seed(130)\n",
    "number_of_simulations = 1000\n",
    "n_size = len(patient_data)\n",
    "bootstrap_means = np.zeros(number_of_simulations)\n",
    "\n",
    "for i in range(number_of_simulations):\n",
    "    sample = patient_data.sample(n=n_size, replace=True)\n",
    "    bootstrap_means[i] = sample['HealthScoreChange'].mean()\n",
    "\n",
    "# Calculating the 95% confidence interval\n",
    "ci_lower = np.percentile(bootstrap_means, 2.5)\n",
    "ci_upper = np.percentile(bootstrap_means, 97.5)\n",
    "print(f\"95% Confidence Interval: [{ci_lower}, {ci_upper}]\")\n",
    "\n",
    "# Observed statistic\n",
    "observed_statistic = (patient_data['HealthScoreChange'] > 0).mean()\n",
    "print(f\"Observed statistic (proportion of improvements): {observed_statistic}\")\n",
    "\n",
    "# Hypothesis testing for one-sided test\n",
    "np.random.seed(1)\n",
    "number_of_simulations = 10000\n",
    "IncreaseProportionSimulations_underH0random = np.zeros(number_of_simulations)\n",
    "\n",
    "# Generate \"random improvement\" proportions assuming H0 is true\n",
    "for i in range(number_of_simulations):\n",
    "    random_improvement = np.random.choice([0, 1], size=len(patient_data), replace=True)\n",
    "    IncreaseProportionSimulations_underH0random[i] = random_improvement.mean()\n",
    "\n",
    "# Calculate p-value for one-sided test (greater than)\n",
    "simulated_statistics = IncreaseProportionSimulations_underH0random\n",
    "p_value_one_sided = (simulated_statistics >= observed_statistic).sum() / number_of_simulations\n",
    "\n",
    "print(f\"One-sided p-value (testing if proportion of improvements > 0): {p_value_one_sided}\")\n"
   ]
  },
  {
   "cell_type": "markdown",
   "id": "d1312dc7",
   "metadata": {},
   "source": [
    "1. P-value Calculation\n",
    "Original Two-Tailed Test checks how many of the simulates statistics \"as or more extreme\" in both directions as the recorded statistic.\n",
    "\n",
    "Updated One-Sided Test verifies if the simulated statistics match or exceed the observed statistic\n",
    "\n",
    "2. Interpretation of the Hypothesis Test\n",
    "Two-Tailed Test determines if the observed impact, or the shift in health ratings, differs statistically from the null hypothesis in any direction (increase or decrease).\n",
    "\n",
    "One-Sided Test determine if the vaccination has significantly improved health ratings.\n",
    "\n",
    "3. Expectation of P-values\n",
    "One-Tailed P-Value: Because this test only looks in one direction—that is, the direction of interest, such as an improvement in health scores—it tends to provide a smaller p-value.\n",
    "\n",
    "Two-Tailed P-Value: Because both directions are evaluated in this test, the p-value is often higher."
   ]
  },
  {
   "cell_type": "markdown",
   "id": "44ab8341",
   "metadata": {},
   "source": [
    "Summary:\n",
    "\n",
    "\n",
    "Sure! Here’s a summary of our conversation:\n",
    "\n",
    "1. **Original Code Review**: \n",
    "   - You provided code that analyzed patient data to assess the effects of a vaccine using bootstrapping and hypothesis testing. It calculated changes in health scores and performed both two-tailed and one-tailed hypothesis tests.\n",
    "\n",
    "2. **Key Concepts Discussed**:\n",
    "   - **Health Score Change Calculation**: The change in health scores was computed by subtracting the initial score from the final score.\n",
    "   - **Bootstrapping**: Used to estimate the distribution of health score changes and compute confidence intervals.\n",
    "   - **P-Value Calculation**: Originally set up for a two-tailed test, which assesses deviations in both directions (improvements and declines).\n",
    "\n",
    "3. **Code Adjustments for One-Sided Test**:\n",
    "   - You asked for modifications to conduct a one-sided hypothesis test. The code was adjusted to focus only on the direction of interest (increases), changing how the p-value was calculated.\n",
    "\n",
    "4. **Interpretation of Hypothesis Tests**:\n",
    "   - A one-tailed test focuses on significant increases, while a two-tailed test assesses both increases and decreases. This changes the hypothesis test’s interpretation and the conclusions drawn from the p-values.\n",
    "\n",
    "5. **P-Value Expectations**:\n",
    "   - In general, a one-tailed p-value is expected to be smaller than a two-tailed p-value for the same dataset since the one-tailed test only considers one direction for significance.\n",
    "\n",
    "If you need any additional details or clarifications, feel free to ask!"
   ]
  },
  {
   "cell_type": "markdown",
   "id": "eb03ff57",
   "metadata": {},
   "source": [
    "Link: https://chatgpt.com/share/670ee351-8028-8000-95a7-ae642b031abf"
   ]
  },
  {
   "cell_type": "markdown",
   "id": "8bb76cc7",
   "metadata": {},
   "source": [
    "# Question 8 "
   ]
  },
  {
   "cell_type": "markdown",
   "id": "2144b247",
   "metadata": {},
   "source": [
    "Null Hypothesis (H0): There is no difference in taste based on the order of adding milk and tea.\n",
    "\n",
    "H0: p = 0.5\n",
    "\n",
    "Alternative Hypothesis (H1): There is a difference in taste based on the order of adding milk and tea.\n",
    "\n",
    "H1: P > 0.5"
   ]
  },
  {
   "cell_type": "markdown",
   "id": "0822b9f8",
   "metadata": {},
   "source": [
    "sample proportion: p head= 49/80 = 0.6125\n",
    "\n",
    "\n",
    "Test statistic: z = 2.008"
   ]
  },
  {
   "cell_type": "code",
   "execution_count": 5,
   "id": "a6dc71c2",
   "metadata": {},
   "outputs": [
    {
     "data": {
      "text/plain": [
       "(2.0124611797498115, 0.022085672454221217)"
      ]
     },
     "execution_count": 5,
     "metadata": {},
     "output_type": "execute_result"
    }
   ],
   "source": [
    "import numpy as np\n",
    "from scipy import stats\n",
    "\n",
    "# Set the random seed for reproducibility\n",
    "np.random.seed(42)\n",
    "\n",
    "# Observed values\n",
    "n = 80  # Sample size\n",
    "x = 49  # Number of successes\n",
    "p_0 = 0.5  # Null hypothesis proportion\n",
    "\n",
    "# Sample proportion\n",
    "p_head = x / n\n",
    "\n",
    "# Calculate the standard error\n",
    "standard_error = np.sqrt(p_0 * (1 - p_0) / n)\n",
    "\n",
    "# Calculate the z-test statistic\n",
    "z = (p_head - p_0) / standard_error\n",
    "\n",
    "# Calculate the p-value for a one-tailed test\n",
    "p_value = 1 - stats.norm.cdf(z)\n",
    "\n",
    "z, p_value\n"
   ]
  },
  {
   "cell_type": "markdown",
   "id": "0b93da79",
   "metadata": {},
   "source": [
    "Since the p-value 0.0221 is within the range of 0.05 >= p > 0.01, which means that there is moderate evidence against the null hypothesis therefore, we reject the null hypothesis whcih means that there is evidence to suggest that students can discern the order of pouring milk and tea better than chance would predict."
   ]
  }
 ],
 "metadata": {
  "kernelspec": {
   "display_name": "Python 3 (ipykernel)",
   "language": "python",
   "name": "python3"
  },
  "language_info": {
   "codemirror_mode": {
    "name": "ipython",
    "version": 3
   },
   "file_extension": ".py",
   "mimetype": "text/x-python",
   "name": "python",
   "nbconvert_exporter": "python",
   "pygments_lexer": "ipython3",
   "version": "3.11.6"
  }
 },
 "nbformat": 4,
 "nbformat_minor": 5
}
