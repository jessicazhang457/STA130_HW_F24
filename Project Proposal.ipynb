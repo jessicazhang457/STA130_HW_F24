{
 "cells": [
  {
   "cell_type": "markdown",
   "id": "6484f18c",
   "metadata": {},
   "source": [
    "# Project proposal 1"
   ]
  },
  {
   "cell_type": "markdown",
   "id": "a61704a8",
   "metadata": {},
   "source": [
    "## Research question 1"
   ]
  },
  {
   "cell_type": "markdown",
   "id": "0a89e626",
   "metadata": {},
   "source": [
    "To what extent do demographic and socioeconomic factors impact loneliness scores, and how do these scores compare between participants from 2021 and 2022?"
   ]
  },
  {
   "cell_type": "markdown",
   "id": "6554e610",
   "metadata": {},
   "source": [
    "### Key Variables"
   ]
  },
  {
   "cell_type": "markdown",
   "id": "0996adfe",
   "metadata": {},
   "source": [
    "**Demographics:** \n",
    "\n",
    "- Age: Used to examine if loneliness is more prevalent among specific age groups.\n",
    "\n",
    "- Gender:  Important to explore potential gender differences in loneliness, as men and women may experience social isolation differently.\n",
    "\n",
    "**Socioeconomic Factors:** \n",
    "\n",
    "- Income Level: Lower income is often associated with higher levels of loneliness due to limited access to social activities, fewer resources, or stress from financial insecurity.\n",
    "\n",
    "- Education Level: Education can affect social connections and psychological resilience, which may influence loneliness levels.\n",
    "\n",
    "\n",
    "**Outcome Variable:** \n",
    "\n",
    "- Emotional loneliness score: Provides a focused view on emotional isolation, helping to assess how different groups feel disconnected or lacking in companionship.\n"
   ]
  },
  {
   "cell_type": "markdown",
   "id": "cb7c6ded",
   "metadata": {},
   "source": [
    "### Visualizations "
   ]
  },
  {
   "cell_type": "markdown",
   "id": "da35e433",
   "metadata": {},
   "source": [
    "**Boxplots** for loneliness scores by income and education.\n",
    "- This graphic will assist in determining whether loneliness differs noticeably among low-, middle-, and high-income groups as well as among educational attainment levels. Boxplots make it simpler to assess whether some groups are regularly more impacted by loneliness by highlighting the dispersion and any outliers.\n",
    "\n",
    "**Histograms** of loneliness scores by year.\n",
    "-  Comparing the histograms of each year will reveal if the overall distribution of loneliness has shifted between 2021 and 2022, potentially indicating changes due to social or environmental factors unique to each year.\n",
    "\n",
    "**Scatterplots** for age vs. loneliness score.\n",
    "- This will show whether loneliness increases or decreases with age, and if this pattern holds across different years or socioeconomic backgrounds. They may also reveal any non-linear trends, where loneliness might peak at certain ages."
   ]
  },
  {
   "cell_type": "markdown",
   "id": "eec854de",
   "metadata": {},
   "source": [
    "### Analysis Plan"
   ]
  },
  {
   "cell_type": "markdown",
   "id": "2a30e0aa",
   "metadata": {},
   "source": [
    "**Confidence Intervals:**\n",
    "\n",
    "- **Objective:** Use confidence intervals to estimate the mean differences in loneliness scores between the 2021 and 2022 cohorts.\n",
    "    \n",
    "- **Method:** Compute 95% confidence intervals for the mean loneliness scores of each year, and for income and education subgroups. By looking at where these intervals overlap or differ, we can gauge the statistical significance and practical importance of the differences."
   ]
  },
  {
   "cell_type": "markdown",
   "id": "5bcb7be2",
   "metadata": {},
   "source": [
    "**Bootstrapping:**\n",
    "\n",
    "- **Objective:** For greater robustness, we could use bootstrapping to generate confidence intervals, particularly if sample sizes are moderate or assumptions of normality in residuals aren’t met.\n",
    "\n",
    "- **Method:** Resample the dataset 1,000 times with replacement to produce a distribution of mean loneliness differences. This would yield more reliable confidence intervals, free from assumptions about normal distribution.\n"
   ]
  },
  {
   "cell_type": "markdown",
   "id": "1a46e98f",
   "metadata": {},
   "source": [
    "### Hypothesis and Expected Results"
   ]
  },
  {
   "cell_type": "markdown",
   "id": "36b07b97",
   "metadata": {},
   "source": [
    "**Hypothesis:** Lower income, younger age, and lower education may correlate with higher loneliness scores. Cohort years may also show significant differences.\n",
    "\n",
    "**Relevance:** Significant findings would suggest that loneliness is influenced by demographic and socioeconomic factors, informing targeted mental health support."
   ]
  },
  {
   "cell_type": "markdown",
   "id": "d6778bcd",
   "metadata": {},
   "source": [
    "# Proposal 2"
   ]
  },
  {
   "cell_type": "markdown",
   "id": "a03fc01d",
   "metadata": {},
   "source": [
    "## Research Question 2"
   ]
  },
  {
   "cell_type": "markdown",
   "id": "cbcaaac3",
   "metadata": {},
   "source": [
    "How does social support from family and friends impact loneliness levels, and does this effect vary by income and education?\n"
   ]
  },
  {
   "cell_type": "markdown",
   "id": "569c8d99",
   "metadata": {},
   "source": [
    "### Key Variables "
   ]
  },
  {
   "cell_type": "markdown",
   "id": "2bcf0949",
   "metadata": {},
   "source": [
    "**Social Support:** \n",
    "\n",
    "- Family: Measures perceived support from family members, providing insight into how familial connections impact loneliness.\n",
    "\n",
    "- Friends: ssesses the level of support from friends, an essential factor as friendships often help counteract loneliness.\n",
    "\n",
    "**Socioeconomic Factors:** \n",
    "\n",
    "- Income Level: Income can influence social support and loneliness indirectly, as individuals with lower income might have less access to social opportunities or supportive networks.\n",
    "\n",
    "- Education Level: Higher education often expands social networks and enhances coping strategies, potentially impacting both loneliness and the effect of social support.\n",
    "\n",
    "**Outcome:** \n",
    "\n",
    "- Emotional loneliness score: Focuses specifically on the emotional aspects of loneliness, such as feeling isolated or lacking companionship. This score allows us to assess the depth of emotional isolation as opposed to general social disconnectedness."
   ]
  },
  {
   "cell_type": "markdown",
   "id": "109485b6",
   "metadata": {},
   "source": [
    "### Planned Visualizations\n"
   ]
  },
  {
   "cell_type": "markdown",
   "id": "affffa2d",
   "metadata": {},
   "source": [
    "**Box Plots:** \n",
    "- Allow us to compare loneliness levels among individuals with varying degrees of perceived support, identifying trends such as whether higher family or friend support correlates with lower loneliness. They also highlight outliers, which could represent individuals who feel lonely despite strong social support.\n",
    "\n",
    "**Scatterplots:** \n",
    "-  By plotting loneliness scores against family, friend, and significant other support scores, we can visualize the strength and direction of these relationships. This can also help identify non-linear patterns, such as diminishing returns where extremely high social support doesn’t further reduce loneliness.\n",
    "\n",
    "**Histograms:** \n",
    "- Will help reveal if lower-income or lower-education groups report higher loneliness scores on average, indicating that socioeconomic factors may independently affect loneliness. It also allows us to see if there is significant variation in loneliness within each socioeconomic category."
   ]
  },
  {
   "cell_type": "markdown",
   "id": "09a3feab",
   "metadata": {},
   "source": [
    "### Analysis Plan"
   ]
  },
  {
   "cell_type": "markdown",
   "id": "c207134a",
   "metadata": {},
   "source": [
    "**Confidence Intervals:** \n",
    "- **Objective:** Use confidence intervals to estimate the potential range of impact that social support from family, friends, and significant others might have on loneliness scores.\n",
    "\n",
    "- **Method:** Calculate 95% confidence intervals for mean loneliness scores by support levels (high, medium, and low support) within each socioeconomic group. Confidence intervals will provide an intuitive understanding of the range within which the true mean loneliness score difference is likely to fall.\n",
    "\n",
    "**Bootstrapping (for Robustness):**\n",
    "\n",
    "- **Objective:** To account for any skewness or non-normality in the data, bootstrapping will be used to estimate confidence intervals.\n",
    "\n",
    "- **Method:** Resample the data 1,000 times with replacement to produce bootstrapped confidence intervals for the impact of each type of social support on loneliness, especially for smaller subgroups (e.g., low-income, low-education).\n",
    "\n",
    "**Linear Regression:**\n",
    "\n",
    "- **Objective:** Assess the independent effects of each type of social support on loneliness, while controlling for income and education level.\n",
    "\n",
    "- **Method:** Include family support, friends support, and significant other support as predictors, with income and education as covariates. Interaction terms between social support types and income/education will be added to investigate if the effects of support differ by socioeconomic status."
   ]
  },
  {
   "cell_type": "markdown",
   "id": "2207bd71",
   "metadata": {},
   "source": [
    "### Hypothesis and Expected Results"
   ]
  },
  {
   "cell_type": "markdown",
   "id": "c47f3606",
   "metadata": {},
   "source": [
    "**Expected Findings:** Higher social support may correlate with lower loneliness scores, especially for those with lower income or education.\n",
    "\n",
    "**Relevance:** Understanding how social support affects loneliness across socioeconomic groups could inform targeted support strategies to mitigate loneliness for vulnerable groups.\n"
   ]
  },
  {
   "cell_type": "markdown",
   "id": "5d37d22d",
   "metadata": {},
   "source": [
    "# Proposal 3"
   ]
  },
  {
   "cell_type": "markdown",
   "id": "404cd560",
   "metadata": {},
   "source": [
    "## Research Question 3"
   ]
  },
  {
   "cell_type": "markdown",
   "id": "aff5acd6",
   "metadata": {},
   "source": [
    "What is the relationship between mental health indicators such as stress, anxiety, and life satisfaction and loneliness levels, and does this relationship vary by age group?"
   ]
  },
  {
   "cell_type": "markdown",
   "id": "fd365306",
   "metadata": {},
   "source": [
    "### Key Variables"
   ]
  },
  {
   "cell_type": "markdown",
   "id": "f60b46c3",
   "metadata": {},
   "source": [
    "**Mental Health Indicators:** \n",
    "\n",
    "- Stress score: Measures the level of perceived stress, as stress may increase feelings of isolation or loneliness, especially in high-stress individuals.\n",
    "\n",
    "- Anxiety score: Assesses anxiety levels, where higher anxiety might be linked to increased loneliness due to social avoidance or difficulties forming connections.\n",
    "\n",
    "- Life satisfaction score: Indicates overall satisfaction with life, hypothesized to be inversely related to loneliness, as higher life satisfaction may buffer against loneliness.\n",
    "\n",
    "**Demographic Factor:** \n",
    "\n",
    "- Age group: ategories such as young adults , middle-aged adults, and older adults. Age groups are relevant as loneliness and mental health issues often vary by life stage; for example, younger people might experience social isolation differently compared to older adults.\n",
    "\n",
    "**Outcome:** \n",
    "\n",
    "- Emotional loneliness score: Measures feelings of emotional isolation or lack of companionship, offering a targeted view on loneliness as it relates to inner, rather than social, connectivity.\n"
   ]
  },
  {
   "cell_type": "markdown",
   "id": "8be489ef",
   "metadata": {},
   "source": [
    "### Planned Visualizations"
   ]
  },
  {
   "cell_type": "markdown",
   "id": "03cf131b",
   "metadata": {},
   "source": [
    "**Box Plots:** \n",
    "\n",
    "- Show loneliness scores across different age groups to observe general trends in loneliness by age.\n",
    "\n",
    "- **Purpose:** Allow us to compare the central tendency and spread of loneliness scores across age groups, identifying potential age-related trends in loneliness. Outliers may highlight individuals who experience particularly high or low loneliness for their age.\n",
    "\n",
    "**Scatterplots:** \n",
    "\n",
    "- Visualize the relationship between each mental health indicator and loneliness.\n",
    "\n",
    "- **Purpose:** Help visualize the strength and direction of relationships between loneliness and each mental health factor. This allows us to see, for example, if higher stress scores consistently associate with higher loneliness levels, or if there’s a non-linear relationship in any age group.\n",
    "\n",
    "**Grouped Bar Charts:** \n",
    "\n",
    "- Compare average loneliness scores by age group for each mental health indicator.\n",
    "\n",
    "- **Purpose:** Allow easy comparison across categories, helping us identify if certain age groups report higher or lower loneliness with varying mental health conditions. This could clarify whether, for example, younger adults with high stress experience significantly different loneliness levels than older adults with similar stress levels."
   ]
  },
  {
   "cell_type": "markdown",
   "id": "f3949fca",
   "metadata": {},
   "source": [
    "### Analysis Plan"
   ]
  },
  {
   "cell_type": "markdown",
   "id": "4131b59c",
   "metadata": {},
   "source": [
    "**Multiple Linear Regression:** \n",
    "\n",
    "- Objective: Assess the association between loneliness and each mental health indicator (stress, anxiety, life satisfaction), with age included as a moderator to see if the strength or direction of these associations varies by age group.\n",
    "\n",
    "- Method:\n",
    "    - Set loneliness as the dependent variable.\n",
    "    \n",
    "    - Include stress, anxiety, life satisfaction, and age as independent variables.\n",
    "    \n",
    "    - Add interaction terms between age group and each mental health indicator to test if these relationships differ across age groups.\n",
    "\n",
    "**Bootstrapping for Confidence Intervals:**\n",
    "\n",
    "- Objective: Use bootstrapping to create confidence intervals around estimated effects, especially to confirm robustness for smaller subgroups.\n",
    "\n",
    "- Method: Resample the data multiple times (e.g., 1,000 resamples) and calculate confidence intervals for each predictor’s effect on loneliness within each age group. This technique can provide robust intervals even if assumptions of normality are not perfectly met."
   ]
  },
  {
   "cell_type": "markdown",
   "id": "7d8c4cb7",
   "metadata": {},
   "source": [
    "### Hypothesis and Expected Results"
   ]
  },
  {
   "cell_type": "markdown",
   "id": "77451014",
   "metadata": {},
   "source": [
    "**Expected Findings:** Higher stress and anxiety may correlate with increased loneliness, while higher life satisfaction may relate to lower loneliness. These associations may be stronger in younger or older age groups.\n",
    "\n",
    "**Relevance:** Results could help tailor mental health interventions to address loneliness in age-specific ways, supporting the study’s goal of understanding how mental health factors interact with loneliness across age groups.\n"
   ]
  }
 ],
 "metadata": {
  "kernelspec": {
   "display_name": "Python 3 (ipykernel)",
   "language": "python",
   "name": "python3"
  },
  "language_info": {
   "codemirror_mode": {
    "name": "ipython",
    "version": 3
   },
   "file_extension": ".py",
   "mimetype": "text/x-python",
   "name": "python",
   "nbconvert_exporter": "python",
   "pygments_lexer": "ipython3",
   "version": "3.11.6"
  }
 },
 "nbformat": 4,
 "nbformat_minor": 5
}
